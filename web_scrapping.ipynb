{
 "cells": [
  {
   "cell_type": "code",
   "execution_count": 77,
   "id": "1b1cd169",
   "metadata": {},
   "outputs": [],
   "source": [
    "import bs4 as bs"
   ]
  },
  {
   "cell_type": "code",
   "execution_count": 78,
   "id": "4e889a04",
   "metadata": {},
   "outputs": [],
   "source": [
    "import urllib.request as url"
   ]
  },
  {
   "cell_type": "code",
   "execution_count": 79,
   "id": "478c3268",
   "metadata": {},
   "outputs": [],
   "source": [
    "source=url.urlopen(\"https://www.yelp.ca/biz/pai-northern-thai-kitchen-toronto-5?osq=Restaurants\")"
   ]
  },
  {
   "cell_type": "code",
   "execution_count": 80,
   "id": "41748cff",
   "metadata": {},
   "outputs": [],
   "source": [
    "page_soup=bs.BeautifulSoup(source,\"html.parser\")"
   ]
  },
  {
   "cell_type": "code",
   "execution_count": 87,
   "id": "4e69554a",
   "metadata": {},
   "outputs": [],
   "source": [
    "mains=page_soup.findAll(\"div\",{\"class\":\"photo-header-content-container__09f24__jDLBB css-1qn0b6x\"})\n",
    "mains1=page_soup.findAll(\"div\",{\"class\":\"css-1qn0b6x\"})"
   ]
  },
  {
   "cell_type": "code",
   "execution_count": 88,
   "id": "97a2977b",
   "metadata": {},
   "outputs": [
    {
     "name": "stdout",
     "output_type": "stream",
     "text": [
      "Pai Northern Thai Kitchen\n"
     ]
    }
   ],
   "source": [
    "#find out the name of the restaurant\n",
    "main=mains[0]\n",
    "restaurant_name=main.find(\"h1\").text\n",
    "print(restaurant_name)\n"
   ]
  },
  {
   "cell_type": "code",
   "execution_count": 89,
   "id": "21473f35",
   "metadata": {},
   "outputs": [
    {
     "name": "stdout",
     "output_type": "stream",
     "text": [
      "(3,573 reviews)\n"
     ]
    }
   ],
   "source": [
    "#find out the total number of reviews\n",
    "total_review=main.find(\"a\").text\n",
    "print(total_review)"
   ]
  },
  {
   "cell_type": "code",
   "execution_count": 90,
   "id": "4f30e6ec",
   "metadata": {},
   "outputs": [
    {
     "name": "stdout",
     "output_type": "stream",
     "text": [
      "4.4 star rating\n"
     ]
    }
   ],
   "source": [
    "#find out the total number of stars rating\n",
    "total_stars_rating=main.find(\"span\",{\"class\":\"css-1d8srnw\"}).div.get('aria-label')\n",
    "print(total_stars_rating)"
   ]
  },
  {
   "cell_type": "code",
   "execution_count": 91,
   "id": "f41bfb84",
   "metadata": {},
   "outputs": [
    {
     "name": "stdout",
     "output_type": "stream",
     "text": [
      "Reviewer: Suggest an edit\n",
      "Rating: 4 star rating\n",
      "Review: One of my favourite restaurants in the city. Always fresh, friendly, fast but not rushed.I am always impressed with the theming as well.\n",
      "====================\n",
      "Reviewer: Suggest an edit\n",
      "Rating: 4 star rating\n",
      "Review: One of my favourite restaurants in the city. Always fresh, friendly, fast but not rushed.I am always impressed with the theming as well.\n",
      "====================\n",
      "Reviewer: Cameron A.\n",
      "Rating: 4.5 star rating\n",
      "Review: One of my favourite restaurants in the city. Always fresh, friendly, fast but not rushed.I am always impressed with the theming as well.\n",
      "====================\n",
      "Reviewer: Cameron A.\n",
      "Rating: 4.5 star rating\n",
      "Review: One of my favourite restaurants in the city. Always fresh, friendly, fast but not rushed.I am always impressed with the theming as well.\n",
      "====================\n",
      "Reviewer: Cameron A.\n",
      "Rating: 4.5 star rating\n",
      "Review: One of my favourite restaurants in the city. Always fresh, friendly, fast but not rushed.I am always impressed with the theming as well.\n",
      "====================\n",
      "Reviewer: Cameron A.\n",
      "Rating: 5 star rating\n",
      "Review: One of my favourite restaurants in the city. Always fresh, friendly, fast but not rushed.I am always impressed with the theming as well.\n",
      "====================\n",
      "Reviewer: Maria J.\n",
      "Rating: 5 star rating\n",
      "Review: My friend and I wanted to catch up over dinner on a Saturday evening, and she picked this place (as she read great reviews). We didn't have a reservation, so we waited in line and the friendly staff at the front took down one of our names. Then we were informed that it would be about 30 minute wait and were asked to wait until our name was called. While waiting, we looked around- the vibe was energetic and fun, the customers were eating and laughing. The decor was cool- the lights were dimmed, there were various colourful objects all around to evoke a comfy feel. I thought the place was pretty small, until our name was called and we were led to a table by a friendly young lady. The place was huge- there were multiple sections and each section had its own decor! Our seat was at the end section, where the decor reminded us of sitting inside someone's home. Our server was a second friendly young lady. She warmly greeted us and showed us the menu (QR code). She said she'll be back to take our order in a few minutes. To start, we ordered Shrimp Chips and two Thai Ice Tea. For the main, I picked Chef Nuit Pad Thai with chicken. My friend chose Khao Soi with beef. A few minutes later, the Shrimp Chips and two Thai Ice Tea came to us. The Shrimp Chips were delicious- they were crispy and lightly salty. The Thai Ice Tea was tasty- it tasted like milk tea with deeper tea flavour. Then our mains came and we couldn't wait to eat! For my meal, the blend of veggies, chewy noodles, and the chicken pieces were delicious- however it was a bit salty. My friend enjoyed her meal as well- she said that she liked the smooth coconut curry with blend of spices and the juicy pieces of beef. Throughout our meal, our server came by to check-in on us to make sure that we had everything we needed. The portions were generous and the dishes and drinks were delicious! Highly recommended!\n",
      "====================\n",
      "Reviewer: Albert K.\n",
      "Rating: 5 star rating\n",
      "Review: - excellent chips!- pad thai was spicy (level: spicy, but not thai spicy) with 5 pieces of shrimp- fried shrimp was excellent- really good pineapple juiceThe venue is huge, fun, and has good vibes. Food came out fast and the portions were large. It's got an upbeat party-type vibe here and is a LOT bigger than it looks.Prices were reasonable, on the higher end of Thai in general. Excellent food nonetheless.Shame there was no thai iced coffee.\n",
      "====================\n",
      "Reviewer: Carly W.\n",
      "Rating: 5 star rating\n",
      "Review: Seeking a restaurant with all the vibes?!++ COME HERE!Vibes on vibes to be experienced at Pai Northern Thai Kitchen. Lanterns, colorful flag banners, Edison lights, intricate wood paneling, and exposed brick all help set the mood here. Craving an adventure, without leaving the city?!++ COME HERE!Not only is the vibe authentic AF, but the story behind the concept is just the best. Head to their website to read about their literal journey!Yearning for authentic bites bursting with flavor?++ COME HERE!I was stoked to sample the Tom Yum Soup and Chicken Pad Thai. They were both drool-worthy dishes to say the least. I love an authentic Pad Thai that isn't dripping in sauce. This for the bill. And the Tom Yum Soup left me craving more.Want to dabble in the kitchen yourself?!++ COME HERE!Well, not actually \"here,\" but you can order a copy of their cookbook via their website and cook up some of their killer recipes for yourself. Score!Pai Northern Thai Kitchen is easily at the top of my \"Must Nosh\" lost in Toronto. Check it out for yourself!**Pro Tip: This place is POPPING during dinner on weekends. Do yourself a favor and make a dang reservation or be prepared for a thirty to forty-five minute wait.\n",
      "====================\n",
      "Reviewer: Aiko I.\n",
      "Rating: 4 star rating\n",
      "Review: Friday night dinner. Tried to book 2 weeks in advance but there was no table available for reservations. They have limited reservations available to welcome more walk-in guests. So, took a chance and waited in line to get a table. Seated in 30 mins. Already a long line up in front of the restaurant around 5:30pm. This Michelin mentioned restaurant is giving the street and the eat-in area an exciting vibe with full of energy.  We are group of 5. OrderedFood: # THAI CHICKEN WINGS# GRABONG (buttercup squash fritters )# MOO PING (grilled pork skewers)# GAENG KIAW WAN - GREEN CURRY (Chicken) # GAENG MASSAMAN (Beef)# PAD SEE EW (Shrimp)Highlight was Pad See Ew. Loved the Wide flat noodle. Great texture with chewiness and tenderness. The wide surface noodle absorbs savory flavors, making a great contrast with the plumpy large shrimps and crispy baby gailan (Chinese broccoli). The presentation of the green curry was impressive - the curry was in the coconut shell. Tasted great with generous amount of vegetables and meat, rich in textures and flavors. The accompanying jasmine rice was perfectly steamed, wrapped in a leaf. Flavorful. Compared to the amount of the curry, I wished the size of the rice were bigger. You can order the rice separately for $4. Sweet with mild spice kick. The wings, pork skewers, Massaman curry and Grabong all tasted great. Nothing to complain about, but nothing to note as \"wow\".     Drinks (Cocktails)# GOJI ANUNOBY (Vodka, Grande Marnier, Domain de Canton, Plum Wine,Plum Bitters, Goji Pop Tea, Goji Berries.)# THAI MOJITO (White Rum, Lemongrass Syrup, fresh basil, lime, topped with Soda and butterfly pea flower)# RED PAI SANGRIA (Malbec, Grand Marnier, lychees, fresh pineapple, pomegranate juice, lime)All the cocktails had unique Thai flavors with distinctive use of herbs and spices, fruits. Everything hit a good balance of sour, and exotic scent and fruitiness. They all maintained nice boozy kick. The amount of food were perfect for 5 adults. Will come back!!!!!\n",
      "====================\n",
      "Reviewer: Brenda C.\n",
      "Rating: 5 star rating\n",
      "Review: Hubby and I saw this place on YouTube's \"Worth It\" and we were curious and had to try this place out. Is it all hype or is it \"Worth It?\"I loved the Mango Slaw as I found it refreshing. I loved the textures of the sweetness of the mangos with the crunchiness of the taro sticks and peanuts. It is a must get, in my book. Hubby and I decided to go vegetarian for our entrees. Hubby ordered Tofu Pad Gra Prow which was very good while I ordered Tofu Khao Soi. There was a perfect balance between the curry and soup. The harmonious coconut milk with the stock made it the standout dish with its refreshing combination of flavors and textures. I truly appreciate the notion that they offer plenty of vegetarian food and can make any dish vegan. This is a trendy place and you should make reservations on Friday nights as well as the weekends. The service was fast and efficient. They offer dinner specials but the waitress explained everyone at the table would have to order it in order for it to come into effect. The ambiance with live bands on weekends and the overall trendy atmosphere adds an extra layer of enjoyment to the dining experience.  So the question remains, \"Is it Worth It?\" The answer is unequivocally, \"YES!\" It definitely lived up to the hype for us.\n",
      "====================\n",
      "Reviewer: Elaine N.\n",
      "Rating: 3 star rating\n",
      "Review: We went here on a Thursday to get in line around 11:50am. This restaurant doesn't open until 12pm and there was already a line before it opened!We got the Gaeng Massaman, Chef Built Pad Thai, and Thai Chicken Wings. I also wanted to order dessert too, but they don't serve dessert until after 4pm, so I only ended up getting those food items. Anyways, all the food was good, but it wasn't the best Thai food I've had. The food were very average in flavor. The Thai Chicken Wings were my favorite part though! Those chicken wings were covered were crispy, well marinated, and juicy!Another positive thing about my experience with the food here was the large portion size of the pad Thai! We shared the pad Thai and that made us full. The Gaeng Massaman curry dish we got was good too and I liked how the curry wasn't too thick.I'd recommend this place, but maybe only during their dinner hours. I recommend to come during the dinner hours because then you'll be able to try their dessert menu while also being able to order from their food menu too! I also wish this place had more variety of food items since it didn't feel like much variety when I went.\n",
      "====================\n",
      "Reviewer: Louisa M.\n",
      "Rating: 4 star rating\n",
      "Review: I was in Toronto attending the annual TIFF film festival, and dined at this restaurant on my birthday. I wanted a nice meal and a break from all the movies, and the large crowd hanging around out front and the hour-long wait for a table reassured me that this was going to be a tasty meal. I put my name on the list and waited for a text that my table was ready. (The hostess asked if we would be okay sitting at a communal table, so be aware if you're super private and would prefer to dine alone). The restaurant is in a basement, so it's very dark and intimate inside. It is packed with tables, so you'll run a gauntlet to get to your table. The atmosphere is casual and lively, and it's very loud inside with concrete floors and walls. The decor is casual and fun, with colorful flags adorning the walls and a large bar in the center.Since it was my birthday, we decided to order a bottle of prosecco that was listed on the menu. The friendly server took that order and disappeared, only to return to say they didn't have any bottles of prosecco, and we'd have to order by the glass. Big disappointment. We placed our order for Thai vegetables as an appetizer and we each got their house specialty: Pad Thai. I chose shrimp, my husband chose beef. Our server typed our orders into his electronic pad and disappeared for the remainder of our meal. The place was packed and they obviously didn't have enough servers waiting tables, so the service knocks this place down at least one, but probably two, stars. Another thing that really bugged me is that we were charged prices that were higher than what was stated on the menu. I am not sure if this was just the \"tourist surprise special\" or if they have dynamic pricing during special events downtown, but it rubbed me the wrong way. My prosecco per-glass price was almost three dollars more than listed on the menu, as were our entrees. Not cool.  I also was annoyed by the volume of noise in the place. It was SO LOUD with people screaming to have conversations. This would've been a killer place for a romantic evening if they could do something about the noise levels. The food was really good and made with high quality ingredients, so I can't complain about that at all! In fact, I'll definitely return next time I'm in town for the festival. Note: they won't take reservations during TIFF, so don't bother. But do show up at least an hour before you want to eat, it really did take the quoted time for a table to be ready.\n",
      "====================\n",
      "Reviewer: Cindy N.\n",
      "Rating: 3 star rating\n",
      "Review: Pai is one of the most popular go-to places lots of locals recommend a lot. Coming into this I had some expectations that it'll live up to the hype. Unfortunately, I found the place a bit overhyped and not mindblowing. Pad Thai: Quite average pad thai. It wasn't bad but wasn't really the best pad thai I've had especially since it's a reasonably high price point.Papaya Salad & Mango Salad: The papaya salad came with shrimp chips and vermicelli. The mango salad had low quantity of mango, was mostly carrots. Was a bit too much MSG on the salad seasoning. Khao Soi: The better dish out of all of them. The broth was flavourful and creamy. Everything went well together. Would recommend only getting this and perhaps their curry dishes as it seems like that's their specialty. Overall, I had much better expectations for this spot and disappointed that Pai doesn't live up to the hype they receive. Although I will give them credit they have an extensive menu which may be good for groups that have a lot of dietary restrictions. It's not worth the long wait (over 40 mins wait time) or far in advanced reservations in my opinion.\n",
      "====================\n",
      "Reviewer: Sandra K.\n",
      "Rating: 4 star rating\n",
      "Review: The place was decorated really well with a tropical theme. It was about an hour wait for our party of 6 on a rainy Wednesday evening in November. The waiting area is very small, most of my family had to stand. I ordered the chaing Mai beef noodle soup, they give you a good amount of meat, and it was very flavorful. I tried my boyfriend's Khao soi (chicken and noodles in coconut milk curry) and it was so creamy, it the best thing I had eaten all month. I recommend dining here, and definitely make a reservation ahead of time.\n",
      "====================\n"
     ]
    }
   ],
   "source": [
    "# Assuming mains1 contains all relevant elements\n",
    "total_elements = 3573\n",
    "\n",
    "# Create lists to store data\n",
    "reviewer_list = []\n",
    "rating_list = []\n",
    "review_text_list = []\n",
    "\n",
    "for main1 in mains1:\n",
    "    try:\n",
    "        reviewer = main1.find(\"a\", {\"class\": \"css-19v1rkv\"})\n",
    "        rating_element = main1.find(\"span\", {\"class\": \"css-1d8srnw\"})\n",
    "        review_text_element = main1.find(\"p\", {\"class\": \"comment__09f24__D0cxf css-qgunke\"})\n",
    "\n",
    "        if reviewer and rating_element and review_text_element:\n",
    "            reviewer_text = reviewer.text\n",
    "            rating = rating_element.div.get('aria-label')\n",
    "            review_text = review_text_element.text\n",
    "\n",
    "            # Append data to lists\n",
    "            reviewer_list.append(reviewer_text)\n",
    "            rating_list.append(rating)\n",
    "            review_text_list.append(review_text)\n",
    "\n",
    "    except AttributeError as e:\n",
    "        print(\"Error:\", e)\n",
    "\n",
    "# Print the extracted data for verification\n",
    "for i in range(len(reviewer_list)):\n",
    "    print(\"Reviewer:\", reviewer_list[i])\n",
    "    print(\"Rating:\", rating_list[i])\n",
    "    print(\"Review:\", review_text_list[i])\n",
    "    print(\"=\" * 20)\n",
    "\n"
   ]
  },
  {
   "cell_type": "code",
   "execution_count": null,
   "id": "168e576f",
   "metadata": {},
   "outputs": [],
   "source": []
  }
 ],
 "metadata": {
  "kernelspec": {
   "display_name": "Python 3 (ipykernel)",
   "language": "python",
   "name": "python3"
  },
  "language_info": {
   "codemirror_mode": {
    "name": "ipython",
    "version": 3
   },
   "file_extension": ".py",
   "mimetype": "text/x-python",
   "name": "python",
   "nbconvert_exporter": "python",
   "pygments_lexer": "ipython3",
   "version": "3.11.5"
  }
 },
 "nbformat": 4,
 "nbformat_minor": 5
}
